{
 "cells": [
  {
   "cell_type": "code",
   "execution_count": 6,
   "id": "03c6b57e-025e-4412-8547-8d6d135ce581",
   "metadata": {},
   "outputs": [],
   "source": [
    "import matplotlib.pyplot as plt\n",
    "import seaborn as sns\n",
    "import networkx as nx"
   ]
  },
  {
   "cell_type": "code",
   "execution_count": 16,
   "id": "3fd0224b-f723-420a-a35d-5d074db1f7d8",
   "metadata": {},
   "outputs": [],
   "source": [
    "g = nx.generators.small.krackhardt_kite_graph()"
   ]
  },
  {
   "cell_type": "code",
   "execution_count": 17,
   "id": "23cd7ca0-8f69-4e50-a274-05527a98277d",
   "metadata": {},
   "outputs": [
    {
     "data": {
      "text/plain": [
       "18"
      ]
     },
     "execution_count": 17,
     "metadata": {},
     "output_type": "execute_result"
    }
   ],
   "source": [
    "g.number_of_edges()"
   ]
  },
  {
   "cell_type": "code",
   "execution_count": 18,
   "id": "af32ab5f-9377-4398-962a-da6dd8bce65b",
   "metadata": {},
   "outputs": [
    {
     "data": {
      "text/plain": [
       "10"
      ]
     },
     "execution_count": 18,
     "metadata": {},
     "output_type": "execute_result"
    }
   ],
   "source": [
    "g.number_of_nodes()"
   ]
  },
  {
   "cell_type": "code",
   "execution_count": 28,
   "id": "a051db86-aa89-4da3-92d8-4c5a78db62fa",
   "metadata": {},
   "outputs": [
    {
     "data": {
      "text/plain": [
       "AdjacencyView({0: {1: {}, 2: {}, 3: {}, 5: {}}, 1: {0: {}, 3: {}, 4: {}, 6: {}}, 2: {0: {}, 3: {}, 5: {}}, 3: {0: {}, 1: {}, 2: {}, 4: {}, 5: {}, 6: {}}, 4: {1: {}, 3: {}, 6: {}}, 5: {0: {}, 2: {}, 3: {}, 6: {}, 7: {}}, 6: {1: {}, 3: {}, 4: {}, 5: {}, 7: {}}, 7: {5: {}, 6: {}, 8: {}}, 8: {7: {}, 9: {}}, 9: {8: {}}})"
      ]
     },
     "execution_count": 28,
     "metadata": {},
     "output_type": "execute_result"
    }
   ],
   "source": [
    "g.adj"
   ]
  },
  {
   "cell_type": "code",
   "execution_count": 25,
   "id": "1064d812-679b-4a6c-9390-07623177ce8f",
   "metadata": {},
   "outputs": [
    {
     "data": {
      "text/plain": [
       "[[1, 2, 3, 5],\n",
       " [0, 3, 4, 6],\n",
       " [0, 3, 5],\n",
       " [0, 1, 2, 4, 5, 6],\n",
       " [1, 3, 6],\n",
       " [0, 2, 3, 6, 7],\n",
       " [1, 3, 4, 5, 7],\n",
       " [5, 6, 8],\n",
       " [7, 9],\n",
       " [8]]"
      ]
     },
     "execution_count": 25,
     "metadata": {},
     "output_type": "execute_result"
    }
   ],
   "source": [
    "# g.adjacency_list()\n",
    "[list(g.neighbors(x)) for x in g.nodes()]"
   ]
  },
  {
   "cell_type": "code",
   "execution_count": 20,
   "id": "66551207-74c3-441e-9e02-a6c605732925",
   "metadata": {},
   "outputs": [
    {
     "data": {
      "text/plain": [
       "EdgeView([(0, 1), (0, 2), (0, 3), (0, 5), (1, 3), (1, 4), (1, 6), (2, 3), (2, 5), (3, 4), (3, 5), (3, 6), (4, 6), (5, 6), (5, 7), (6, 7), (7, 8), (8, 9)])"
      ]
     },
     "execution_count": 20,
     "metadata": {},
     "output_type": "execute_result"
    }
   ],
   "source": [
    "g.edges()"
   ]
  },
  {
   "cell_type": "code",
   "execution_count": 23,
   "id": "f36048a8-82a2-4e33-877f-00dcb44c9abc",
   "metadata": {},
   "outputs": [
    {
     "data": {
      "text/plain": [
       "{0: [1, 2, 3, 5],\n",
       " 1: [0, 3, 4, 6],\n",
       " 2: [0, 3, 5],\n",
       " 3: [0, 1, 2, 4, 5, 6],\n",
       " 4: [1, 3, 6],\n",
       " 5: [0, 2, 3, 6, 7],\n",
       " 6: [1, 3, 4, 5, 7],\n",
       " 7: [5, 6, 8],\n",
       " 8: [7, 9],\n",
       " 9: [8]}"
      ]
     },
     "execution_count": 23,
     "metadata": {},
     "output_type": "execute_result"
    }
   ],
   "source": [
    "dict((x, list(g.neighbors(x))) for x in g.nodes())"
   ]
  },
  {
   "cell_type": "code",
   "execution_count": 29,
   "id": "f9f2dedf-b674-4dae-99ec-110dd20a56b6",
   "metadata": {},
   "outputs": [
    {
     "data": {
      "text/plain": [
       "\u001b[0;31mSignature:\u001b[0m\n",
       "\u001b[0mnx\u001b[0m\u001b[0;34m.\u001b[0m\u001b[0mgenerators\u001b[0m\u001b[0;34m.\u001b[0m\u001b[0msmall\u001b[0m\u001b[0;34m.\u001b[0m\u001b[0mkrackhardt_kite_graph\u001b[0m\u001b[0;34m(\u001b[0m\u001b[0;34m\u001b[0m\n",
       "\u001b[0;34m\u001b[0m    \u001b[0mcreate_using\u001b[0m\u001b[0;34m=\u001b[0m\u001b[0;32mNone\u001b[0m\u001b[0;34m,\u001b[0m\u001b[0;34m\u001b[0m\n",
       "\u001b[0;34m\u001b[0m    \u001b[0;34m*\u001b[0m\u001b[0;34m,\u001b[0m\u001b[0;34m\u001b[0m\n",
       "\u001b[0;34m\u001b[0m    \u001b[0mbackend\u001b[0m\u001b[0;34m=\u001b[0m\u001b[0;32mNone\u001b[0m\u001b[0;34m,\u001b[0m\u001b[0;34m\u001b[0m\n",
       "\u001b[0;34m\u001b[0m    \u001b[0;34m**\u001b[0m\u001b[0mbackend_kwargs\u001b[0m\u001b[0;34m,\u001b[0m\u001b[0;34m\u001b[0m\n",
       "\u001b[0;34m\u001b[0m\u001b[0;34m)\u001b[0m\u001b[0;34m\u001b[0m\u001b[0;34m\u001b[0m\u001b[0m\n",
       "\u001b[0;31mDocstring:\u001b[0m\n",
       "Returns the Krackhardt Kite Social Network.\n",
       "\n",
       "A 10 actor social network introduced by David Krackhardt\n",
       "to illustrate different centrality measures [1]_.\n",
       "\n",
       "Parameters\n",
       "----------\n",
       "create_using : NetworkX graph constructor, optional (default=nx.Graph)\n",
       "   Graph type to create. If graph instance, then cleared before populated.\n",
       "\n",
       "Returns\n",
       "-------\n",
       "G : networkx Graph\n",
       "    Krackhardt Kite graph with 10 nodes and 18 edges\n",
       "\n",
       "Notes\n",
       "-----\n",
       "The traditional labeling is:\n",
       "Andre=1, Beverley=2, Carol=3, Diane=4,\n",
       "Ed=5, Fernando=6, Garth=7, Heather=8, Ike=9, Jane=10.\n",
       "\n",
       "References\n",
       "----------\n",
       ".. [1] Krackhardt, David. \"Assessing the Political Landscape: Structure,\n",
       "   Cognition, and Power in Organizations\". Administrative Science Quarterly.\n",
       "   35 (2): 342–369. doi:10.2307/2393394. JSTOR 2393394. June 1990.\n",
       "\u001b[0;31mFile:\u001b[0m      ~/Documents/GitHub/Social-Network-Analysis/chapter2/.venv/lib/python3.9/site-packages/networkx/generators/small.py\n",
       "\u001b[0;31mType:\u001b[0m      function"
      ]
     },
     "metadata": {},
     "output_type": "display_data"
    }
   ],
   "source": [
    "nx.generators.small.krackhardt_kite_graph?"
   ]
  },
  {
   "cell_type": "code",
   "execution_count": null,
   "id": "ed317bc5-541e-47fa-9a39-47408a1cb301",
   "metadata": {},
   "outputs": [],
   "source": []
  },
  {
   "cell_type": "code",
   "execution_count": null,
   "id": "f6d60cd7-9a19-4b6c-b43f-6a734f0ede8c",
   "metadata": {},
   "outputs": [],
   "source": []
  }
 ],
 "metadata": {
  "kernelspec": {
   "display_name": ".venv",
   "language": "python",
   "name": ".venv"
  },
  "language_info": {
   "codemirror_mode": {
    "name": "ipython",
    "version": 3
   },
   "file_extension": ".py",
   "mimetype": "text/x-python",
   "name": "python",
   "nbconvert_exporter": "python",
   "pygments_lexer": "ipython3",
   "version": "3.9.6"
  }
 },
 "nbformat": 4,
 "nbformat_minor": 5
}
