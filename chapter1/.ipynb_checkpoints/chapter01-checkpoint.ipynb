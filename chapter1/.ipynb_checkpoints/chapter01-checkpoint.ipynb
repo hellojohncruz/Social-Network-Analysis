{
 "cells": [
  {
   "cell_type": "markdown",
   "id": "b9eeacf4-13ec-49f2-b192-35668579c675",
   "metadata": {},
   "source": [
    "# 1.1"
   ]
  },
  {
   "cell_type": "code",
   "execution_count": 1,
   "id": "c9e2c0a9-06e4-4344-8370-4b608e5a214b",
   "metadata": {},
   "outputs": [],
   "source": [
    "import nltk"
   ]
  },
  {
   "cell_type": "code",
   "execution_count": 160,
   "id": "31dced06-135d-4fbf-84c8-41be4abf57c2",
   "metadata": {},
   "outputs": [
    {
     "name": "stdout",
     "output_type": "stream",
     "text": [
      "showing info https://raw.githubusercontent.com/nltk/nltk_data/gh-pages/index.xml\n"
     ]
    },
    {
     "data": {
      "text/plain": [
       "True"
      ]
     },
     "execution_count": 160,
     "metadata": {},
     "output_type": "execute_result"
    }
   ],
   "source": [
    "# download data from nltk\n",
    "nltk.download()"
   ]
  },
  {
   "cell_type": "code",
   "execution_count": 158,
   "id": "6ce84f72-5089-43e3-af01-a440b48a329d",
   "metadata": {},
   "outputs": [],
   "source": [
    "from nltk.book import *"
   ]
  },
  {
   "cell_type": "markdown",
   "id": "631720f5-3fa7-4fe2-8275-10a0cd69ff89",
   "metadata": {},
   "source": [
    "# concordance()\n",
    "\n",
    "shows us every occurrence of a given word, together with some context."
   ]
  },
  {
   "cell_type": "code",
   "execution_count": 8,
   "id": "d1cb122d-63e4-4324-b84a-6597d0519761",
   "metadata": {},
   "outputs": [
    {
     "name": "stdout",
     "output_type": "stream",
     "text": [
      "Displaying 11 of 11 matches:\n",
      "ong the former , one was of a most monstrous size . ... This came towards us , \n",
      "ON OF THE PSALMS . \" Touching that monstrous bulk of the whale or ork we have r\n",
      "ll over with a heathenish array of monstrous clubs and spears . Some were thick\n",
      "d as you gazed , and wondered what monstrous cannibal and savage could ever hav\n",
      "that has survived the flood ; most monstrous and most mountainous ! That Himmal\n",
      "they might scout at Moby Dick as a monstrous fable , or still worse and more de\n",
      "th of Radney .'\" CHAPTER 55 Of the Monstrous Pictures of Whales . I shall ere l\n",
      "ing Scenes . In connexion with the monstrous pictures of whales , I am strongly\n",
      "ere to enter upon those still more monstrous stories of them which are to be fo\n",
      "ght have been rummaged out of this monstrous cabinet there is no telling . But \n",
      "of Whale - Bones ; for Whales of a monstrous size are oftentimes cast up dead u\n"
     ]
    }
   ],
   "source": [
    "text1.concordance(\"monstrous\")"
   ]
  },
  {
   "cell_type": "code",
   "execution_count": 9,
   "id": "53a18deb-183e-48b8-97a7-c4b292f5359f",
   "metadata": {},
   "outputs": [
    {
     "name": "stdout",
     "output_type": "stream",
     "text": [
      "Displaying 11 of 11 matches:\n",
      ". \" Now , Palmer , you shall see a monstrous pretty girl .\" He immediately went\n",
      "your sister is to marry him . I am monstrous glad of it , for then I shall have\n",
      "ou may tell your sister . She is a monstrous lucky girl to get him , upon my ho\n",
      "k how you will like them . Lucy is monstrous pretty , and so good humoured and \n",
      " Jennings , \" I am sure I shall be monstrous glad of Miss Marianne ' s company \n",
      " usual noisy cheerfulness , \" I am monstrous glad to see you -- sorry I could n\n",
      "t however , as it turns out , I am monstrous glad there was never any thing in \n",
      "so scornfully ! for they say he is monstrous fond of her , as well he may . I s\n",
      "possible that she should .\" \" I am monstrous glad of it . Good gracious ! I hav\n",
      "thing of the kind . So then he was monstrous happy , and talked on some time ab\n",
      "e very genteel people . He makes a monstrous deal of money , and they keep thei\n"
     ]
    }
   ],
   "source": [
    "text2.concordance(\"monstrous\")"
   ]
  },
  {
   "cell_type": "code",
   "execution_count": 10,
   "id": "8e4b12ee-8fee-49a0-a913-a5ff2446e465",
   "metadata": {},
   "outputs": [
    {
     "name": "stdout",
     "output_type": "stream",
     "text": [
      "Displaying 25 of 500 matches:\n",
      "te was a single man , who lived to a very advanced age , and who for many year\n",
      "en made amiable himself ; for he was very young when he married , and very fon\n",
      "was very young when he married , and very fond of his wife . But Mrs . John Da\n",
      "osity to so large an amount . It was very well known that no affection was eve\n",
      "y , to be sure ,\" said her husband , very gravely , \" that would make great di\n",
      "amily , for instance , it would be a very convenient addition .\" \" To be sure \n",
      "ounds on their mother ' s death -- a very comfortable fortune for any young wo\n",
      "d if they do not , they may all live very comfortably together on the interest\n",
      " of ten thousand pounds .\" \" That is very true , and , therefore , I do not kn\n",
      "annuity to be paid them ; and she is very stout and healthy , and hardly forty\n",
      ", and hardly forty . An annuity is a very serious business ; it comes over and\n",
      "ow them any thing yearly . It may be very inconvenient some years to spare a h\n",
      "thing farther ; indeed , it would be very strange and unreasonable if he did .\n",
      " some of the plate would have been a very pleasant addition to our own stock h\n",
      "nor attention to his wishes ; for we very well know that if he could , he woul\n",
      "tions . The contempt which she had , very early in their acquaintance , felt f\n",
      "lt for her daughter - in - law , was very much increased by the farther knowle\n",
      "the eldest son of a man who had died very rich ; and some might have repressed\n",
      "er it with some surprise . Edward is very amiable , and I love him tenderly . \n",
      "hough he admires Elinor ' s drawings very much , it is not the admiration of a\n",
      "arning , I think he would have drawn very well . He distrusts his own judgment\n",
      "y the drawings of other people , was very far from that rapturous delight , wh\n",
      "What say you , Marianne ?\" \" I shall very soon think him handsome , Elinor , i\n",
      " of him . She felt that Edward stood very high in her opinion . She believed t\n",
      "to deny ,\" said she , \" that I think very highly of him -- that I greatly este\n"
     ]
    }
   ],
   "source": [
    "text2.concordance(\"very\")"
   ]
  },
  {
   "cell_type": "markdown",
   "id": "fba425a7-29cf-48d7-8f94-89b829a5a887",
   "metadata": {},
   "source": [
    "# similar()\n",
    "\n",
    "A concordance permits us to see words in context. What other words\n",
    "appear in a similar range of contexts? We can find out by appending the term\n",
    "similar to the name of the text in question, then inserting the relevant word in\n",
    "parentheses"
   ]
  },
  {
   "cell_type": "code",
   "execution_count": 11,
   "id": "5e31416e-cb21-4d41-b53b-51c716174867",
   "metadata": {},
   "outputs": [
    {
     "name": "stdout",
     "output_type": "stream",
     "text": [
      "very so exceedingly heartily a as good great extremely remarkably\n",
      "sweet vast amazingly\n"
     ]
    }
   ],
   "source": [
    "text2.similar(\"monstrous\")"
   ]
  },
  {
   "cell_type": "markdown",
   "id": "30e65496-ce79-464b-9e24-786249208f26",
   "metadata": {},
   "source": [
    "# common_contexts()\n",
    "\n",
    "allows us to examine just the contexts that are shared by\n",
    "two or more words"
   ]
  },
  {
   "cell_type": "code",
   "execution_count": 12,
   "id": "aed66ede-6c12-41c6-a562-73fcf604040a",
   "metadata": {},
   "outputs": [
    {
     "name": "stdout",
     "output_type": "stream",
     "text": [
      "am_glad a_pretty a_lucky is_pretty be_glad\n"
     ]
    }
   ],
   "source": [
    "text2.common_contexts([\"monstrous\", \"very\"])"
   ]
  },
  {
   "cell_type": "markdown",
   "id": "1edf0232-5da4-4670-8068-cc777286f613",
   "metadata": {},
   "source": [
    "# dispersion_plot()\n",
    "\n",
    "determine the location of a word in the text: how many words from the beginning it appears."
   ]
  },
  {
   "cell_type": "code",
   "execution_count": 13,
   "id": "3ee444cd-0772-41e1-a570-166d1e5c6a13",
   "metadata": {},
   "outputs": [
    {
     "data": {
      "image/png": "[encoded data removed]",
      "text/plain": [
       "<Figure size 640x480 with 1 Axes>"
      ]
     },
     "metadata": {},
     "output_type": "display_data"
    }
   ],
   "source": [
    "import matplotlib.pyplot as plt\n",
    "text4.dispersion_plot([\"citizens\", \"democracy\", \"freedom\", \"duties\", \"America\"])"
   ]
  },
  {
   "cell_type": "markdown",
   "id": "f04a1355-9993-4816-9c22-ef95934d71f3",
   "metadata": {},
   "source": [
    "# generate()\n",
    "\n",
    "generating some random text from the style of the text. "
   ]
  },
  {
   "cell_type": "code",
   "execution_count": 18,
   "id": "fc8be2c8-de78-45a1-8e27-6ff6623dbf58",
   "metadata": {},
   "outputs": [
    {
     "name": "stdout",
     "output_type": "stream",
     "text": [
      "laid by her , and said unto Cain , Where art thou , and said , Go to ,\n",
      "I will not do it for ten ' s sons ; we dreamed each man according to\n",
      "their generatio the firstborn said unto Laban , Because I said , Nay ,\n",
      "but Sarah shall her name be . , duke Elah , duke Shobal , and Akan .\n",
      "and looked upon my affliction . Bashemath Ishmael ' s blood , but Isra\n",
      "for as a prince hast thou found of all the cattle in the valley , and\n",
      "the wo The\n"
     ]
    },
    {
     "data": {
      "text/plain": [
       "\"laid by her , and said unto Cain , Where art thou , and said , Go to ,\\nI will not do it for ten ' s sons ; we dreamed each man according to\\ntheir generatio the firstborn said unto Laban , Because I said , Nay ,\\nbut Sarah shall her name be . , duke Elah , duke Shobal , and Akan .\\nand looked upon my affliction . Bashemath Ishmael ' s blood , but Isra\\nfor as a prince hast thou found of all the cattle in the valley , and\\nthe wo The\""
      ]
     },
     "execution_count": 18,
     "metadata": {},
     "output_type": "execute_result"
    }
   ],
   "source": [
    "text3.generate()"
   ]
  },
  {
   "cell_type": "code",
   "execution_count": 15,
   "id": "afd98882-28a6-4f1f-a366-922fb1ccb595",
   "metadata": {},
   "outputs": [
    {
     "name": "stderr",
     "output_type": "stream",
     "text": [
      "Building ngram index...\n"
     ]
    },
    {
     "name": "stdout",
     "output_type": "stream",
     "text": [
      "knew , had by this remembrance , and if , by rapid degrees , so long .\n",
      ", she could live without one another , and in her rambles . at least\n",
      "the last evening of a brother , could you know , from the first .\n",
      "Dashwood ? this gentleman himself , and must put up with a kindness\n",
      "which they are very much vexed at , for it -- and I shall keep it\n",
      "entirely . admire it ; and it is , explain the grounds , or if any\n",
      "place could give her ease , was a\n"
     ]
    },
    {
     "data": {
      "text/plain": [
       "'knew , had by this remembrance , and if , by rapid degrees , so long .\\n, she could live without one another , and in her rambles . at least\\nthe last evening of a brother , could you know , from the first .\\nDashwood ? this gentleman himself , and must put up with a kindness\\nwhich they are very much vexed at , for it -- and I shall keep it\\nentirely . admire it ; and it is , explain the grounds , or if any\\nplace could give her ease , was a'"
      ]
     },
     "execution_count": 15,
     "metadata": {},
     "output_type": "execute_result"
    }
   ],
   "source": [
    "text2.generate()"
   ]
  },
  {
   "cell_type": "markdown",
   "id": "4a5caa70-5ad5-4794-bb13-6322732a58b8",
   "metadata": {},
   "source": [
    "# len()\n",
    "\n",
    "length of a text from start to finish, in terms of the words and punctuation symbols that appear"
   ]
  },
  {
   "cell_type": "code",
   "execution_count": 16,
   "id": "403cb28e-a0c9-4141-8056-f9667e909d2e",
   "metadata": {},
   "outputs": [
    {
     "data": {
      "text/plain": [
       "44764"
      ]
     },
     "execution_count": 16,
     "metadata": {},
     "output_type": "execute_result"
    }
   ],
   "source": [
    "len(text3)"
   ]
  },
  {
   "cell_type": "markdown",
   "id": "31a77f1f-6d12-4962-aaa0-04dddca2b4bc",
   "metadata": {},
   "source": [
    "# set()\n",
    "allows us to discover the unique set of tokens; while we obtain a sorted list of vocabulary items, beginning with various punctuation symbols and continuing with words starting with A. All capitalized words precede lowercase words."
   ]
  },
  {
   "cell_type": "code",
   "execution_count": 29,
   "id": "cf3191e9-33e7-4c64-87b0-e93853502f26",
   "metadata": {},
   "outputs": [
    {
     "data": {
      "text/plain": [
       "[\"'\",\n",
       " '(',\n",
       " ')',\n",
       " ',',\n",
       " ',)',\n",
       " '.',\n",
       " '.)',\n",
       " ':',\n",
       " ';',\n",
       " ';)',\n",
       " '?',\n",
       " '?)',\n",
       " 'A',\n",
       " 'Abel',\n",
       " 'Abelmizraim',\n",
       " 'Abidah',\n",
       " 'Abide',\n",
       " 'Abimael',\n",
       " 'Abimelech']"
      ]
     },
     "execution_count": 29,
     "metadata": {},
     "output_type": "execute_result"
    }
   ],
   "source": [
    "sorted(set(text3))[1:20]"
   ]
  },
  {
   "cell_type": "code",
   "execution_count": 25,
   "id": "c263c195-a863-43aa-aa91-5cc60108c578",
   "metadata": {},
   "outputs": [
    {
     "data": {
      "text/plain": [
       "2789"
      ]
     },
     "execution_count": 25,
     "metadata": {},
     "output_type": "execute_result"
    }
   ],
   "source": [
    "len(set(text3))"
   ]
  },
  {
   "cell_type": "markdown",
   "id": "96b3da14-46ee-4fd0-a2c7-fc2a592dd874",
   "metadata": {},
   "source": [
    "# calculate a measure of the lexical richness of the text"
   ]
  },
  {
   "cell_type": "code",
   "execution_count": 30,
   "id": "55817813-b333-45b0-85d9-3e1d0b26f969",
   "metadata": {},
   "outputs": [
    {
     "data": {
      "text/plain": [
       "16.050197203298673"
      ]
     },
     "execution_count": 30,
     "metadata": {},
     "output_type": "execute_result"
    }
   ],
   "source": [
    "from __future__ import division\n",
    "len(text3) / len(set(text3))"
   ]
  },
  {
   "cell_type": "markdown",
   "id": "eee711d8-299e-49c5-9c44-5d5debf2dc31",
   "metadata": {},
   "source": [
    "# focus on particular word counts"
   ]
  },
  {
   "cell_type": "code",
   "execution_count": 35,
   "id": "73de0b13-020b-4638-a15d-6847f1f87f04",
   "metadata": {},
   "outputs": [
    {
     "data": {
      "text/plain": [
       "5"
      ]
     },
     "execution_count": 35,
     "metadata": {},
     "output_type": "execute_result"
    }
   ],
   "source": [
    "text3.count(\"smote\")"
   ]
  },
  {
   "cell_type": "code",
   "execution_count": 34,
   "id": "d42b3348-35d3-44cf-8c2f-a41bfeb337ed",
   "metadata": {},
   "outputs": [
    {
     "data": {
      "text/plain": [
       "1.457806031353621"
      ]
     },
     "execution_count": 34,
     "metadata": {},
     "output_type": "execute_result"
    }
   ],
   "source": [
    "100 * text4.count('a') / len(text4)"
   ]
  },
  {
   "cell_type": "code",
   "execution_count": 32,
   "id": "af33f352-39e4-425a-8790-d73a2221c0f2",
   "metadata": {},
   "outputs": [
    {
     "data": {
      "text/plain": [
       "704"
      ]
     },
     "execution_count": 32,
     "metadata": {},
     "output_type": "execute_result"
    }
   ],
   "source": [
    "text5.count(\"lol\")"
   ]
  },
  {
   "cell_type": "code",
   "execution_count": 36,
   "id": "f08d34ed-809a-4ce2-9ff6-8528615c2138",
   "metadata": {},
   "outputs": [
    {
     "data": {
      "text/plain": [
       "0.015640968673628082"
      ]
     },
     "execution_count": 36,
     "metadata": {},
     "output_type": "execute_result"
    }
   ],
   "source": [
    "text5.count(\"lol\") / len(text5)"
   ]
  },
  {
   "cell_type": "code",
   "execution_count": 37,
   "id": "3450f133-e504-4367-ab19-2b8314dd0aee",
   "metadata": {},
   "outputs": [
    {
     "data": {
      "text/plain": [
       "1.5640968673628082"
      ]
     },
     "execution_count": 37,
     "metadata": {},
     "output_type": "execute_result"
    }
   ],
   "source": [
    "text5.count(\"lol\") / len(text5) * 100"
   ]
  },
  {
   "cell_type": "markdown",
   "id": "58850816-1dcd-444e-9f4e-eacc94be78d7",
   "metadata": {},
   "source": [
    "# Functions for Lexical Diversity and Percentage of Words Appearance"
   ]
  },
  {
   "cell_type": "code",
   "execution_count": 39,
   "id": "fd0442bb-5fa0-4ea3-8c46-2ca1310eb189",
   "metadata": {},
   "outputs": [],
   "source": [
    "def lexical_diversity(text):\n",
    "    return len(text) / len(set(text))"
   ]
  },
  {
   "cell_type": "code",
   "execution_count": 41,
   "id": "b3e651eb-3aa5-4723-aaa2-1f296591d376",
   "metadata": {},
   "outputs": [
    {
     "data": {
      "text/plain": [
       "16.050197203298673"
      ]
     },
     "execution_count": 41,
     "metadata": {},
     "output_type": "execute_result"
    }
   ],
   "source": [
    "lexical_diversity(text3)"
   ]
  },
  {
   "cell_type": "code",
   "execution_count": 42,
   "id": "873d2b88-5955-4147-995c-88ff588cb47f",
   "metadata": {},
   "outputs": [
    {
     "data": {
      "text/plain": [
       "7.420046158918563"
      ]
     },
     "execution_count": 42,
     "metadata": {},
     "output_type": "execute_result"
    }
   ],
   "source": [
    "lexical_diversity(text5)"
   ]
  },
  {
   "cell_type": "code",
   "execution_count": 40,
   "id": "c27e271c-be95-4ade-9841-cd062c37758c",
   "metadata": {},
   "outputs": [],
   "source": [
    "def percentage(count, total):\n",
    "    return 100 * count / total"
   ]
  },
  {
   "cell_type": "code",
   "execution_count": 43,
   "id": "aa4fe8b8-b77a-4a63-bfa7-6618554ededb",
   "metadata": {},
   "outputs": [
    {
     "data": {
      "text/plain": [
       "1.457806031353621"
      ]
     },
     "execution_count": 43,
     "metadata": {},
     "output_type": "execute_result"
    }
   ],
   "source": [
    "percentage(text4.count('a'), len(text4))"
   ]
  },
  {
   "cell_type": "code",
   "execution_count": 44,
   "id": "69ca4bf6-a148-4562-b2e6-fa3ddea3fc1c",
   "metadata": {},
   "outputs": [
    {
     "data": {
      "text/plain": [
       "1.5640968673628082"
      ]
     },
     "execution_count": 44,
     "metadata": {},
     "output_type": "execute_result"
    }
   ],
   "source": [
    "percentage(text5.count('lol'), len(text5))"
   ]
  },
  {
   "cell_type": "markdown",
   "id": "7b1f4bd3-2500-4b77-964e-f5ac8a4f2eba",
   "metadata": {},
   "source": [
    "# 1.2"
   ]
  },
  {
   "cell_type": "markdown",
   "id": "cbd90da0-d058-46dc-aef1-e1915f350ca6",
   "metadata": {},
   "source": [
    "## Python Basics"
   ]
  },
  {
   "cell_type": "code",
   "execution_count": 45,
   "id": "6b91fdf2-03fb-414c-85fd-6c68bcea92d3",
   "metadata": {},
   "outputs": [
    {
     "data": {
      "text/plain": [
       "['The',\n",
       " 'family',\n",
       " 'of',\n",
       " 'Dashwood',\n",
       " 'had',\n",
       " 'long',\n",
       " 'been',\n",
       " 'settled',\n",
       " 'in',\n",
       " 'Sussex',\n",
       " '.']"
      ]
     },
     "execution_count": 45,
     "metadata": {},
     "output_type": "execute_result"
    }
   ],
   "source": [
    "sent2"
   ]
  },
  {
   "cell_type": "code",
   "execution_count": 46,
   "id": "ad3bbd45-bf40-44be-ad5c-5801d3e9026d",
   "metadata": {},
   "outputs": [
    {
     "data": {
      "text/plain": [
       "['Fellow',\n",
       " '-',\n",
       " 'Citizens',\n",
       " 'of',\n",
       " 'the',\n",
       " 'Senate',\n",
       " 'and',\n",
       " 'of',\n",
       " 'the',\n",
       " 'House',\n",
       " 'of',\n",
       " 'Representatives',\n",
       " ':']"
      ]
     },
     "execution_count": 46,
     "metadata": {},
     "output_type": "execute_result"
    }
   ],
   "source": [
    "sent4"
   ]
  },
  {
   "cell_type": "code",
   "execution_count": 48,
   "id": "f1015f7d-84a8-4784-952e-48d2ed3c2f7c",
   "metadata": {},
   "outputs": [
    {
     "data": {
      "text/plain": [
       "['The',\n",
       " 'family',\n",
       " 'of',\n",
       " 'Dashwood',\n",
       " 'had',\n",
       " 'long',\n",
       " 'been',\n",
       " 'settled',\n",
       " 'in',\n",
       " 'Sussex',\n",
       " '.',\n",
       " 'Fellow',\n",
       " '-',\n",
       " 'Citizens',\n",
       " 'of',\n",
       " 'the',\n",
       " 'Senate',\n",
       " 'and',\n",
       " 'of',\n",
       " 'the',\n",
       " 'House',\n",
       " 'of',\n",
       " 'Representatives',\n",
       " ':']"
      ]
     },
     "execution_count": 48,
     "metadata": {},
     "output_type": "execute_result"
    }
   ],
   "source": [
    "sent2 + sent4"
   ]
  },
  {
   "cell_type": "code",
   "execution_count": 50,
   "id": "5fd2f81a-b7ca-420c-896c-c5a0d6eb9868",
   "metadata": {},
   "outputs": [
    {
     "data": {
      "text/plain": [
       "['Call', 'me', 'Ishmael', '.', 'Some', 'Some']"
      ]
     },
     "execution_count": 50,
     "metadata": {},
     "output_type": "execute_result"
    }
   ],
   "source": [
    "sent1.append(\"Some\")\n",
    "sent1"
   ]
  },
  {
   "cell_type": "code",
   "execution_count": 51,
   "id": "66659ca5-72cf-44a6-a140-4e80ba69ad3b",
   "metadata": {},
   "outputs": [
    {
     "data": {
      "text/plain": [
       "173"
      ]
     },
     "execution_count": 51,
     "metadata": {},
     "output_type": "execute_result"
    }
   ],
   "source": [
    "text4.index('awaken')"
   ]
  },
  {
   "cell_type": "code",
   "execution_count": 52,
   "id": "5906854a-f347-466a-98c3-0c77c138886c",
   "metadata": {},
   "outputs": [
    {
     "data": {
      "text/plain": [
       "'awaken'"
      ]
     },
     "execution_count": 52,
     "metadata": {},
     "output_type": "execute_result"
    }
   ],
   "source": [
    "text4[173]"
   ]
  },
  {
   "cell_type": "code",
   "execution_count": 53,
   "id": "1573cec9-224e-40df-bb9c-d321f14a592c",
   "metadata": {},
   "outputs": [
    {
     "data": {
      "text/plain": [
       "'Monty Python'"
      ]
     },
     "execution_count": 53,
     "metadata": {},
     "output_type": "execute_result"
    }
   ],
   "source": [
    "# Join Strings\n",
    "' '.join(['Monty', 'Python'])"
   ]
  },
  {
   "cell_type": "code",
   "execution_count": 54,
   "id": "431f3d54-3569-419e-a0c8-16b42359cd95",
   "metadata": {},
   "outputs": [
    {
     "data": {
      "text/plain": [
       "['Monty', 'Python']"
      ]
     },
     "execution_count": 54,
     "metadata": {},
     "output_type": "execute_result"
    }
   ],
   "source": [
    "# Split Strings\n",
    "'Monty Python'.split()"
   ]
  },
  {
   "cell_type": "markdown",
   "id": "b863ab91-dc2d-4753-a611-972d70fc257d",
   "metadata": {},
   "source": [
    "# 1.3"
   ]
  },
  {
   "cell_type": "markdown",
   "id": "bdfcd073-846f-44a5-8202-8e19b8aa1e35",
   "metadata": {},
   "source": [
    "## Simple Statistics"
   ]
  },
  {
   "cell_type": "code",
   "execution_count": 57,
   "id": "728fa8f5-9ae2-4776-bfc1-444c9f90ffad",
   "metadata": {},
   "outputs": [],
   "source": [
    "saying = ['After', 'all', 'is', 'said', 'and', 'done',\n",
    "    'more', 'is', 'said', 'than', 'done']"
   ]
  },
  {
   "cell_type": "code",
   "execution_count": 58,
   "id": "ca7131eb-0694-4852-a0b4-205f5510145e",
   "metadata": {},
   "outputs": [],
   "source": [
    "tokens = set(saying)"
   ]
  },
  {
   "cell_type": "code",
   "execution_count": 61,
   "id": "1c22e4a0-f9ce-4a21-8ff9-341409ec35d9",
   "metadata": {},
   "outputs": [
    {
     "data": {
      "text/plain": [
       "['After', 'all', 'and', 'done', 'is', 'more', 'said', 'than']"
      ]
     },
     "execution_count": 61,
     "metadata": {},
     "output_type": "execute_result"
    }
   ],
   "source": [
    "tokens"
   ]
  },
  {
   "cell_type": "code",
   "execution_count": 59,
   "id": "2649ca4a-b5c7-4955-9d26-4d0464859fff",
   "metadata": {},
   "outputs": [],
   "source": [
    "tokens = sorted(tokens)"
   ]
  },
  {
   "cell_type": "code",
   "execution_count": 60,
   "id": "10e73afa-b22a-44bd-a45c-c572856e89a9",
   "metadata": {},
   "outputs": [
    {
     "data": {
      "text/plain": [
       "['said', 'than']"
      ]
     },
     "execution_count": 60,
     "metadata": {},
     "output_type": "execute_result"
    }
   ],
   "source": [
    "tokens[-2:]"
   ]
  },
  {
   "cell_type": "markdown",
   "id": "789dbdb9-33e0-44da-9819-ec55d908edb3",
   "metadata": {},
   "source": [
    "## Frequency Distributions"
   ]
  },
  {
   "cell_type": "code",
   "execution_count": 62,
   "id": "bf3925b3-d1d8-42b8-8ea9-b377621ff958",
   "metadata": {},
   "outputs": [],
   "source": [
    "fdist1 = FreqDist(text1)"
   ]
  },
  {
   "cell_type": "code",
   "execution_count": 63,
   "id": "666aac14-5e94-45bc-be8d-73adb6a9b81d",
   "metadata": {},
   "outputs": [
    {
     "data": {
      "text/plain": [
       "FreqDist({',': 18713, 'the': 13721, '.': 6862, 'of': 6536, 'and': 6024, 'a': 4569, 'to': 4542, ';': 4072, 'in': 3916, 'that': 2982, ...})"
      ]
     },
     "execution_count": 63,
     "metadata": {},
     "output_type": "execute_result"
    }
   ],
   "source": [
    "fdist1"
   ]
  },
  {
   "cell_type": "code",
   "execution_count": 69,
   "id": "027aca05-803c-4165-ba77-efd5468e5321",
   "metadata": {},
   "outputs": [],
   "source": [
    "vocabulary1 = list(fdist1.keys())"
   ]
  },
  {
   "cell_type": "code",
   "execution_count": 70,
   "id": "060cc168-32bc-493e-8cc1-ff1e6f831afb",
   "metadata": {},
   "outputs": [
    {
     "data": {
      "text/plain": [
       "['[',\n",
       " 'Moby',\n",
       " 'Dick',\n",
       " 'by',\n",
       " 'Herman',\n",
       " 'Melville',\n",
       " '1851',\n",
       " ']',\n",
       " 'ETYMOLOGY',\n",
       " '.',\n",
       " '(',\n",
       " 'Supplied',\n",
       " 'a',\n",
       " 'Late',\n",
       " 'Consumptive',\n",
       " 'Usher',\n",
       " 'to',\n",
       " 'Grammar',\n",
       " 'School',\n",
       " ')',\n",
       " 'The',\n",
       " 'pale',\n",
       " '--',\n",
       " 'threadbare',\n",
       " 'in',\n",
       " 'coat',\n",
       " ',',\n",
       " 'heart',\n",
       " 'body',\n",
       " 'and',\n",
       " 'brain',\n",
       " ';',\n",
       " 'I',\n",
       " 'see',\n",
       " 'him',\n",
       " 'now',\n",
       " 'He',\n",
       " 'was',\n",
       " 'ever',\n",
       " 'dusting',\n",
       " 'his',\n",
       " 'old',\n",
       " 'lexicons',\n",
       " 'grammars',\n",
       " 'with',\n",
       " 'queer',\n",
       " 'handkerchief',\n",
       " 'mockingly',\n",
       " 'embellished',\n",
       " 'all']"
      ]
     },
     "execution_count": 70,
     "metadata": {},
     "output_type": "execute_result"
    }
   ],
   "source": [
    "vocabulary1[:50]"
   ]
  },
  {
   "cell_type": "code",
   "execution_count": 72,
   "id": "dbea5016-b7ff-4645-a6b7-93611529f7df",
   "metadata": {},
   "outputs": [],
   "source": [
    "vocabulary1 = [*fdist1]"
   ]
  },
  {
   "cell_type": "code",
   "execution_count": 73,
   "id": "76dd61a1-a344-46ce-a893-2b37fd9b25f8",
   "metadata": {},
   "outputs": [
    {
     "data": {
      "text/plain": [
       "[',',\n",
       " 'the',\n",
       " '.',\n",
       " 'of',\n",
       " 'and',\n",
       " 'a',\n",
       " 'to',\n",
       " ';',\n",
       " 'in',\n",
       " 'that',\n",
       " \"'\",\n",
       " '-',\n",
       " 'his',\n",
       " 'it',\n",
       " 'I',\n",
       " 's',\n",
       " 'is',\n",
       " 'he',\n",
       " 'with',\n",
       " 'was',\n",
       " 'as',\n",
       " '\"',\n",
       " 'all',\n",
       " 'for',\n",
       " 'this',\n",
       " '!',\n",
       " 'at',\n",
       " 'by',\n",
       " 'but',\n",
       " 'not',\n",
       " '--',\n",
       " 'him',\n",
       " 'from',\n",
       " 'be',\n",
       " 'on',\n",
       " 'so',\n",
       " 'whale',\n",
       " 'one',\n",
       " 'you',\n",
       " 'had',\n",
       " 'have',\n",
       " 'there',\n",
       " 'But',\n",
       " 'or',\n",
       " 'were',\n",
       " 'now',\n",
       " 'which',\n",
       " '?',\n",
       " 'me',\n",
       " 'like']"
      ]
     },
     "execution_count": 73,
     "metadata": {},
     "output_type": "execute_result"
    }
   ],
   "source": [
    "vocabulary1[:50]"
   ]
  },
  {
   "cell_type": "markdown",
   "id": "ddf3c2be-79c3-40eb-9f0d-b6e28a334434",
   "metadata": {},
   "source": [
    "### Hapaxes: Words that only appear once in a text"
   ]
  },
  {
   "cell_type": "code",
   "execution_count": 74,
   "id": "85914b44-e26d-41f7-8eca-3fa3fa1262dc",
   "metadata": {},
   "outputs": [
    {
     "data": {
      "text/plain": [
       "<Axes: xlabel='Samples', ylabel='Cumulative Counts'>"
      ]
     },
     "execution_count": 74,
     "metadata": {},
     "output_type": "execute_result"
    },
    {
     "data": {
      "image/png": "[encoded data removed]",
      "text/plain": [
       "<Figure size 640x480 with 1 Axes>"
      ]
     },
     "metadata": {},
     "output_type": "display_data"
    }
   ],
   "source": [
    "fdist1.plot(50, cumulative=True)"
   ]
  },
  {
   "cell_type": "markdown",
   "id": "e9314c18-b2ae-4182-9854-96fa4c75928a",
   "metadata": {},
   "source": [
    "### Fine-Grain Selection of Words"
   ]
  },
  {
   "cell_type": "code",
   "execution_count": 75,
   "id": "d958df0a-1103-4266-aa67-bd2adcabf9dd",
   "metadata": {},
   "outputs": [],
   "source": [
    "V = set(text1)"
   ]
  },
  {
   "cell_type": "code",
   "execution_count": 77,
   "id": "9e8f274e-ad80-4183-ae8d-4de1b9b4783e",
   "metadata": {},
   "outputs": [],
   "source": [
    "long_words = [w for w in V if len(w) > 15]"
   ]
  },
  {
   "cell_type": "code",
   "execution_count": 79,
   "id": "6d18734f-26f8-480f-b7c1-6b1419c9516b",
   "metadata": {},
   "outputs": [
    {
     "data": {
      "text/plain": [
       "['CIRCUMNAVIGATION',\n",
       " 'Physiognomically',\n",
       " 'apprehensiveness',\n",
       " 'cannibalistically',\n",
       " 'characteristically',\n",
       " 'circumnavigating',\n",
       " 'circumnavigation',\n",
       " 'circumnavigations',\n",
       " 'comprehensiveness',\n",
       " 'hermaphroditical',\n",
       " 'indiscriminately',\n",
       " 'indispensableness',\n",
       " 'irresistibleness',\n",
       " 'physiognomically',\n",
       " 'preternaturalness',\n",
       " 'responsibilities',\n",
       " 'simultaneousness',\n",
       " 'subterraneousness',\n",
       " 'supernaturalness',\n",
       " 'superstitiousness',\n",
       " 'uncomfortableness',\n",
       " 'uncompromisedness',\n",
       " 'undiscriminating',\n",
       " 'uninterpenetratingly']"
      ]
     },
     "execution_count": 79,
     "metadata": {},
     "output_type": "execute_result"
    }
   ],
   "source": [
    "sorted(long_words)"
   ]
  },
  {
   "cell_type": "code",
   "execution_count": 80,
   "id": "994b660c-8701-41dc-83f1-bf33befefecd",
   "metadata": {},
   "outputs": [],
   "source": [
    "fdist5 = FreqDist(text5)"
   ]
  },
  {
   "cell_type": "code",
   "execution_count": 95,
   "id": "2b7c4ac6-0d75-4fa5-af69-cf11f45f9adb",
   "metadata": {},
   "outputs": [
    {
     "data": {
      "text/plain": [
       "FreqDist({'.': 1268, 'JOIN': 1021, 'PART': 1016, '?': 737, 'lol': 704, 'to': 658, 'i': 648, 'the': 646, 'you': 635, ',': 596, ...})"
      ]
     },
     "execution_count": 95,
     "metadata": {},
     "output_type": "execute_result"
    }
   ],
   "source": [
    "fdist5"
   ]
  },
  {
   "cell_type": "code",
   "execution_count": 81,
   "id": "09651499-6500-45dc-b289-73221bc0ed59",
   "metadata": {},
   "outputs": [
    {
     "data": {
      "text/plain": [
       "['#14-19teens',\n",
       " '#talkcity_adults',\n",
       " '((((((((((',\n",
       " '........',\n",
       " 'Question',\n",
       " 'actually',\n",
       " 'anything',\n",
       " 'computer',\n",
       " 'cute.-ass',\n",
       " 'everyone',\n",
       " 'football',\n",
       " 'innocent',\n",
       " 'listening',\n",
       " 'remember',\n",
       " 'seriously',\n",
       " 'something',\n",
       " 'together',\n",
       " 'tomorrow',\n",
       " 'watching']"
      ]
     },
     "execution_count": 81,
     "metadata": {},
     "output_type": "execute_result"
    }
   ],
   "source": [
    "sorted([w for w in set(text5) if len(w) > 7 and fdist5[w] > 7])"
   ]
  },
  {
   "cell_type": "markdown",
   "id": "94d4fb45-7fc8-4ac7-b388-62e22f7396fb",
   "metadata": {},
   "source": [
    "## Collocations and Bigrams\n",
    "\n",
    "### collocation: \n",
    "a sequence of words that occur together unusually often. Thus red\n",
    "wine is a collocation, whereas the wine is not. A characteristic of collocations is that\n",
    "they are resistant to substitution with words that have similar senses; for example,\n",
    "maroon wine sounds very odd.\n",
    "\n",
    "### bigrams: \n",
    "To get a handle on collocations, we start off by extracting from a text a list of word\n",
    "pairs"
   ]
  },
  {
   "cell_type": "code",
   "execution_count": 87,
   "id": "9d222584-99a7-4cd1-925e-35dc4d43275b",
   "metadata": {},
   "outputs": [],
   "source": [
    "bigram_example = list(bigrams(['more', 'is', 'said', 'than', 'done']))"
   ]
  },
  {
   "cell_type": "code",
   "execution_count": 88,
   "id": "4a38b824-0f81-47b4-8a8e-adcd837b525b",
   "metadata": {},
   "outputs": [
    {
     "data": {
      "text/plain": [
       "[('more', 'is'), ('is', 'said'), ('said', 'than'), ('than', 'done')]"
      ]
     },
     "execution_count": 88,
     "metadata": {},
     "output_type": "execute_result"
    }
   ],
   "source": [
    "bigram_example"
   ]
  },
  {
   "cell_type": "code",
   "execution_count": 89,
   "id": "f533e441-35b0-464a-8ea4-22b75cb6c7f9",
   "metadata": {},
   "outputs": [
    {
     "name": "stdout",
     "output_type": "stream",
     "text": [
      "United States; fellow citizens; years ago; four years; Federal\n",
      "Government; General Government; American people; Vice President; God\n",
      "bless; Chief Justice; one another; fellow Americans; Old World;\n",
      "Almighty God; Fellow citizens; Chief Magistrate; every citizen; Indian\n",
      "tribes; public debt; foreign nations\n"
     ]
    }
   ],
   "source": [
    "text4.collocations()"
   ]
  },
  {
   "cell_type": "markdown",
   "id": "e02a64da-8749-41dc-977e-7cd5bbbbac81",
   "metadata": {},
   "source": [
    "## Counting Word Length Distribution"
   ]
  },
  {
   "cell_type": "code",
   "execution_count": 91,
   "id": "df513289-73f0-418d-b6d7-fa92c20ddf83",
   "metadata": {},
   "outputs": [],
   "source": [
    "fdist = FreqDist([len(w) for w in text1])"
   ]
  },
  {
   "cell_type": "code",
   "execution_count": 92,
   "id": "4ba85ac4-d1cb-445d-9b0d-8c146d8d1512",
   "metadata": {},
   "outputs": [
    {
     "data": {
      "text/plain": [
       "FreqDist({3: 50223, 1: 47933, 4: 42345, 2: 38513, 5: 26597, 6: 17111, 7: 14399, 8: 9966, 9: 6428, 10: 3528, ...})"
      ]
     },
     "execution_count": 92,
     "metadata": {},
     "output_type": "execute_result"
    }
   ],
   "source": [
    "fdist"
   ]
  },
  {
   "cell_type": "code",
   "execution_count": 94,
   "id": "e0b6f795-19bb-4cc6-b3d5-edde8d6c632c",
   "metadata": {},
   "outputs": [
    {
     "data": {
      "text/plain": [
       "[3, 1, 4, 2, 5, 6, 7, 8, 9, 10, 11, 12, 13, 14, 15, 16, 17, 18, 20]"
      ]
     },
     "execution_count": 94,
     "metadata": {},
     "output_type": "execute_result"
    }
   ],
   "source": [
    "[*fdist]"
   ]
  },
  {
   "cell_type": "markdown",
   "id": "c724845d-4304-4ed4-91d1-3680edc88cee",
   "metadata": {},
   "source": [
    "### Frequency of length of the words"
   ]
  },
  {
   "cell_type": "code",
   "execution_count": 108,
   "id": "6840f1e4-eddc-4722-be3f-de86559b6f38",
   "metadata": {},
   "outputs": [],
   "source": [
    "items = [*fdist.items()]"
   ]
  },
  {
   "cell_type": "code",
   "execution_count": 112,
   "id": "23a3e0b7-4c62-4e19-8666-3397b502fd72",
   "metadata": {},
   "outputs": [
    {
     "data": {
      "text/plain": [
       "[(3, 50223),\n",
       " (1, 47933),\n",
       " (4, 42345),\n",
       " (2, 38513),\n",
       " (5, 26597),\n",
       " (6, 17111),\n",
       " (7, 14399),\n",
       " (8, 9966),\n",
       " (9, 6428),\n",
       " (10, 3528),\n",
       " (11, 1873),\n",
       " (12, 1053),\n",
       " (13, 567),\n",
       " (14, 177),\n",
       " (15, 70),\n",
       " (16, 22),\n",
       " (17, 12),\n",
       " (18, 1),\n",
       " (20, 1)]"
      ]
     },
     "execution_count": 112,
     "metadata": {},
     "output_type": "execute_result"
    }
   ],
   "source": [
    "# I can sort the dictionary into a list of tuples that is reversed based on the second tuple value\n",
    "sorted(items, key=lambda x: x[1], reverse=True)"
   ]
  },
  {
   "cell_type": "code",
   "execution_count": 113,
   "id": "d302b9c3-69e2-4e07-9a01-77bbadf38507",
   "metadata": {},
   "outputs": [
    {
     "data": {
      "text/plain": [
       "3"
      ]
     },
     "execution_count": 113,
     "metadata": {},
     "output_type": "execute_result"
    }
   ],
   "source": [
    "fdist.max()"
   ]
  },
  {
   "cell_type": "code",
   "execution_count": 114,
   "id": "3957502e-b9af-4b38-909e-32592dc0946a",
   "metadata": {},
   "outputs": [
    {
     "data": {
      "text/plain": [
       "50223"
      ]
     },
     "execution_count": 114,
     "metadata": {},
     "output_type": "execute_result"
    }
   ],
   "source": [
    "fdist[3]"
   ]
  },
  {
   "cell_type": "code",
   "execution_count": 115,
   "id": "2e74b841-2a03-4366-bf94-d6c7e3dd6204",
   "metadata": {},
   "outputs": [
    {
     "data": {
      "text/plain": [
       "0.19255882431878046"
      ]
     },
     "execution_count": 115,
     "metadata": {},
     "output_type": "execute_result"
    }
   ],
   "source": [
    "fdist.freq(3)"
   ]
  },
  {
   "cell_type": "markdown",
   "id": "076f2507-e618-4cb4-8e4b-9b4e48975114",
   "metadata": {},
   "source": [
    "# 1.4"
   ]
  },
  {
   "cell_type": "code",
   "execution_count": 119,
   "id": "4161dbb9-dd46-40f0-addb-9ab7c1398605",
   "metadata": {},
   "outputs": [
    {
     "data": {
      "text/plain": [
       "['Pierre',\n",
       " 'Vinken',\n",
       " ',',\n",
       " '61',\n",
       " 'years',\n",
       " 'old',\n",
       " ',',\n",
       " 'will',\n",
       " 'join',\n",
       " 'the',\n",
       " 'board',\n",
       " 'as',\n",
       " 'a',\n",
       " 'nonexecutive',\n",
       " 'director',\n",
       " 'Nov.',\n",
       " '29',\n",
       " '.']"
      ]
     },
     "execution_count": 119,
     "metadata": {},
     "output_type": "execute_result"
    }
   ],
   "source": [
    "sent7"
   ]
  },
  {
   "cell_type": "code",
   "execution_count": 120,
   "id": "94f935ec-cbdb-4411-b2e7-ca4d302a1024",
   "metadata": {},
   "outputs": [
    {
     "data": {
      "text/plain": [
       "[',', '61', 'old', ',', 'the', 'as', 'a', '29', '.']"
      ]
     },
     "execution_count": 120,
     "metadata": {},
     "output_type": "execute_result"
    }
   ],
   "source": [
    "[w for w in sent7 if len(w) < 4]"
   ]
  },
  {
   "cell_type": "code",
   "execution_count": 121,
   "id": "307af694-542f-4c50-9a0a-bae8ef95f8a2",
   "metadata": {},
   "outputs": [
    {
     "data": {
      "text/plain": [
       "[',', '61', 'old', ',', 'will', 'join', 'the', 'as', 'a', 'Nov.', '29', '.']"
      ]
     },
     "execution_count": 121,
     "metadata": {},
     "output_type": "execute_result"
    }
   ],
   "source": [
    "[w for w in sent7 if len(w) <= 4]"
   ]
  },
  {
   "cell_type": "code",
   "execution_count": 122,
   "id": "2d6d61ce-ce14-4a64-8b32-975c48c211db",
   "metadata": {},
   "outputs": [
    {
     "data": {
      "text/plain": [
       "['will', 'join', 'Nov.']"
      ]
     },
     "execution_count": 122,
     "metadata": {},
     "output_type": "execute_result"
    }
   ],
   "source": [
    "[w for w in sent7 if len(w) == 4]"
   ]
  },
  {
   "cell_type": "code",
   "execution_count": 123,
   "id": "cd865bdb-dbe5-4f59-9802-61fd49dce6b3",
   "metadata": {},
   "outputs": [
    {
     "data": {
      "text/plain": [
       "['Pierre',\n",
       " 'Vinken',\n",
       " ',',\n",
       " '61',\n",
       " 'years',\n",
       " 'old',\n",
       " ',',\n",
       " 'the',\n",
       " 'board',\n",
       " 'as',\n",
       " 'a',\n",
       " 'nonexecutive',\n",
       " 'director',\n",
       " '29',\n",
       " '.']"
      ]
     },
     "execution_count": 123,
     "metadata": {},
     "output_type": "execute_result"
    }
   ],
   "source": [
    "[w for w in sent7 if len(w) != 4]"
   ]
  },
  {
   "cell_type": "code",
   "execution_count": 124,
   "id": "3acaa9c3-4562-4f4b-8def-643d04cafec0",
   "metadata": {},
   "outputs": [
    {
     "data": {
      "text/plain": [
       "['comfortableness',\n",
       " 'honourableness',\n",
       " 'immutableness',\n",
       " 'indispensableness',\n",
       " 'indomitableness',\n",
       " 'intolerableness',\n",
       " 'palpableness',\n",
       " 'reasonableness',\n",
       " 'uncomfortableness']"
      ]
     },
     "execution_count": 124,
     "metadata": {},
     "output_type": "execute_result"
    }
   ],
   "source": [
    "sorted([w for w in set(text1) if w.endswith('ableness')])"
   ]
  },
  {
   "cell_type": "code",
   "execution_count": 125,
   "id": "10440b9e-c7e3-461d-9bd9-8c77571541e0",
   "metadata": {},
   "outputs": [
    {
     "data": {
      "text/plain": [
       "['Sovereignty', 'sovereignties', 'sovereignty']"
      ]
     },
     "execution_count": 125,
     "metadata": {},
     "output_type": "execute_result"
    }
   ],
   "source": [
    "sorted([term for term in set(text4) if 'gnt' in term])"
   ]
  },
  {
   "cell_type": "code",
   "execution_count": 130,
   "id": "03ada0ee-f373-44c2-a1af-e33d6b785826",
   "metadata": {},
   "outputs": [
    {
     "data": {
      "text/plain": [
       "['Aaaaaaaaah', 'Chop', 'Hic', 'Oooh', 'Thppppt']"
      ]
     },
     "execution_count": 130,
     "metadata": {},
     "output_type": "execute_result"
    }
   ],
   "source": [
    "titled = sorted([item for item in set(text6) if item.istitle()])\n",
    "titled[1:1000:100]"
   ]
  },
  {
   "cell_type": "code",
   "execution_count": 131,
   "id": "c599a7de-23cb-4518-8d87-70a020f4ca3a",
   "metadata": {},
   "outputs": [
    {
     "data": {
      "text/plain": [
       "['29', '61']"
      ]
     },
     "execution_count": 131,
     "metadata": {},
     "output_type": "execute_result"
    }
   ],
   "source": [
    "sorted([item for item in set(sent7) if item.isdigit()])"
   ]
  },
  {
   "cell_type": "code",
   "execution_count": 132,
   "id": "e2243b99-5959-4e44-9163-0517f14889c5",
   "metadata": {},
   "outputs": [
    {
     "data": {
      "text/plain": [
       "['Stock-index',\n",
       " 'index-arbitrage',\n",
       " 'index-fund',\n",
       " 'index-options',\n",
       " 'index-related',\n",
       " 'stock-index']"
      ]
     },
     "execution_count": 132,
     "metadata": {},
     "output_type": "execute_result"
    }
   ],
   "source": [
    "sorted([w for w in set(text7) if '-' in w and 'index' in w])"
   ]
  },
  {
   "cell_type": "code",
   "execution_count": 133,
   "id": "28dd82d9-31c5-4c6a-9a35-2c00b5892dc6",
   "metadata": {},
   "outputs": [
    {
     "data": {
      "text/plain": [
       "['Abelmizraim',\n",
       " 'Allonbachuth',\n",
       " 'Beerlahairoi',\n",
       " 'Canaanitish',\n",
       " 'Chedorlaomer',\n",
       " 'Girgashites',\n",
       " 'Hazarmaveth',\n",
       " 'Hazezontamar',\n",
       " 'Ishmeelites',\n",
       " 'Jegarsahadutha',\n",
       " 'Jehovahjireh',\n",
       " 'Kirjatharba',\n",
       " 'Melchizedek',\n",
       " 'Mesopotamia',\n",
       " 'Peradventure',\n",
       " 'Philistines',\n",
       " 'Zaphnathpaaneah']"
      ]
     },
     "execution_count": 133,
     "metadata": {},
     "output_type": "execute_result"
    }
   ],
   "source": [
    "sorted([wd for wd in set(text3) if wd.istitle() and len(wd) > 10])"
   ]
  },
  {
   "cell_type": "code",
   "execution_count": 134,
   "id": "0e5788c5-fb28-435c-a4e0-4cf64efc5f57",
   "metadata": {},
   "outputs": [
    {
     "data": {
      "text/plain": [
       "[',', '.', '29', '61', 'Nov.', 'Pierre', 'Vinken']"
      ]
     },
     "execution_count": 134,
     "metadata": {},
     "output_type": "execute_result"
    }
   ],
   "source": [
    "sorted([w for w in set(sent7) if not w.islower()])"
   ]
  },
  {
   "cell_type": "code",
   "execution_count": 135,
   "id": "362d148f-ffec-4802-a162-b41957637c18",
   "metadata": {},
   "outputs": [
    {
     "data": {
      "text/plain": [
       "['ancient',\n",
       " 'ceiling',\n",
       " 'conceit',\n",
       " 'conceited',\n",
       " 'conceive',\n",
       " 'conscience',\n",
       " 'conscientious',\n",
       " 'conscientiously',\n",
       " 'deceitful',\n",
       " 'deceive',\n",
       " 'deceived',\n",
       " 'deceiving',\n",
       " 'deficiencies',\n",
       " 'deficiency',\n",
       " 'deficient',\n",
       " 'delicacies',\n",
       " 'excellencies',\n",
       " 'fancied',\n",
       " 'insufficiency',\n",
       " 'insufficient',\n",
       " 'legacies',\n",
       " 'perceive',\n",
       " 'perceived',\n",
       " 'perceiving',\n",
       " 'prescience',\n",
       " 'prophecies',\n",
       " 'receipt',\n",
       " 'receive',\n",
       " 'received',\n",
       " 'receiving',\n",
       " 'society',\n",
       " 'species',\n",
       " 'sufficient',\n",
       " 'sufficiently',\n",
       " 'undeceive',\n",
       " 'undeceiving']"
      ]
     },
     "execution_count": 135,
     "metadata": {},
     "output_type": "execute_result"
    }
   ],
   "source": [
    "sorted([t for t in set(text2) if 'cie' in t or 'cei' in t])"
   ]
  },
  {
   "cell_type": "code",
   "execution_count": 136,
   "id": "94a6f73c-fec1-4d14-b549-d90e649afff3",
   "metadata": {},
   "outputs": [
    {
     "data": {
      "text/plain": [
       "[4, 4, 2, 6, 8, 4, 1, 9, 1]"
      ]
     },
     "execution_count": 136,
     "metadata": {},
     "output_type": "execute_result"
    }
   ],
   "source": [
    "text_len = [len(w) for w in text1]\n",
    "text_len[1:10]"
   ]
  },
  {
   "cell_type": "code",
   "execution_count": 138,
   "id": "2cfda82f-3346-429b-89c4-ed4577b508af",
   "metadata": {},
   "outputs": [
    {
     "data": {
      "text/plain": [
       "['MOBY', 'DICK', 'BY', 'HERMAN', 'MELVILLE', '1851', ']', 'ETYMOLOGY', '.']"
      ]
     },
     "execution_count": 138,
     "metadata": {},
     "output_type": "execute_result"
    }
   ],
   "source": [
    "text_upper = [w.upper() for w in text1]\n",
    "text_upper[1:10]"
   ]
  },
  {
   "cell_type": "code",
   "execution_count": 139,
   "id": "d5c20a13-78fd-4e97-9e60-9acc3a7f0536",
   "metadata": {},
   "outputs": [
    {
     "data": {
      "text/plain": [
       "260819"
      ]
     },
     "execution_count": 139,
     "metadata": {},
     "output_type": "execute_result"
    }
   ],
   "source": [
    "len(text1)"
   ]
  },
  {
   "cell_type": "code",
   "execution_count": 140,
   "id": "858c8e5a-b787-41a0-9b26-3df3b7ae384b",
   "metadata": {},
   "outputs": [
    {
     "data": {
      "text/plain": [
       "19317"
      ]
     },
     "execution_count": 140,
     "metadata": {},
     "output_type": "execute_result"
    }
   ],
   "source": [
    "len(set(text1))"
   ]
  },
  {
   "cell_type": "code",
   "execution_count": 141,
   "id": "d0be2f17-8377-45cb-b079-bb7a44753cd2",
   "metadata": {},
   "outputs": [
    {
     "data": {
      "text/plain": [
       "17231"
      ]
     },
     "execution_count": 141,
     "metadata": {},
     "output_type": "execute_result"
    }
   ],
   "source": [
    "len(set([word.lower() for word in text1]))"
   ]
  },
  {
   "cell_type": "code",
   "execution_count": 142,
   "id": "775c0f84-17f9-4943-ad0c-a09ad55231ac",
   "metadata": {},
   "outputs": [
    {
     "data": {
      "text/plain": [
       "16948"
      ]
     },
     "execution_count": 142,
     "metadata": {},
     "output_type": "execute_result"
    }
   ],
   "source": [
    "len(set([word.lower() for word in text1 if word.isalpha()]))"
   ]
  },
  {
   "cell_type": "code",
   "execution_count": 145,
   "id": "92b91de9-b934-41fc-8974-2e48e152dcd0",
   "metadata": {},
   "outputs": [
    {
     "name": "stdout",
     "output_type": "stream",
     "text": [
      "word length is less than 5\n"
     ]
    }
   ],
   "source": [
    "word = 'cat'\n",
    "if len(word) < 5:\n",
    "    print('word length is less than 5')"
   ]
  },
  {
   "cell_type": "code",
   "execution_count": 147,
   "id": "c91d0110-f934-4b68-b89a-651efc8c405a",
   "metadata": {},
   "outputs": [
    {
     "name": "stdout",
     "output_type": "stream",
     "text": [
      "Call\n",
      "me\n",
      "Ishmael\n",
      ".\n"
     ]
    }
   ],
   "source": [
    "for word in ['Call', 'me', 'Ishmael', '.']:\n",
    "    print(word)"
   ]
  },
  {
   "cell_type": "code",
   "execution_count": 148,
   "id": "f45397b3-ef3c-4d81-ad6d-5f76839b88ef",
   "metadata": {},
   "outputs": [
    {
     "name": "stdout",
     "output_type": "stream",
     "text": [
      "Call\n",
      "Ishmael\n"
     ]
    }
   ],
   "source": [
    "sent1 = ['Call', 'me', 'Ishmael', '.']\n",
    "for xyzzy in sent1:\n",
    "    if xyzzy.endswith('l'):\n",
    "        print(xyzzy)"
   ]
  },
  {
   "cell_type": "code",
   "execution_count": 149,
   "id": "8c46a92b-3706-42d5-8d40-1156baa5f498",
   "metadata": {},
   "outputs": [
    {
     "name": "stdout",
     "output_type": "stream",
     "text": [
      "Call is a titlecase word\n",
      "me is a lowercase word\n",
      "Ishmael is a titlecase word\n",
      ". is punctuation\n"
     ]
    }
   ],
   "source": [
    "for token in sent1:\n",
    "    if token.islower():\n",
    "        print(token, 'is a lowercase word')\n",
    "    elif token.istitle():\n",
    "        print(token, 'is a titlecase word')\n",
    "    else:\n",
    "        print(token, 'is punctuation')"
   ]
  },
  {
   "cell_type": "code",
   "execution_count": 156,
   "id": "03b2a785-785c-4cf5-ac49-8a31e9c75226",
   "metadata": {},
   "outputs": [
    {
     "name": "stdout",
     "output_type": "stream",
     "text": [
      "ancient,ceiling,conceit,conceited,conceive,conscience,conscientious,conscientiously,deceitful,deceive,deceived,deceiving,deficiencies,deficiency,deficient,delicacies,excellencies,fancied,insufficiency,insufficient,legacies,perceive,perceived,perceiving,prescience,prophecies,receipt,receive,received,receiving,society,species,sufficient,sufficiently,undeceive,undeceiving,"
     ]
    }
   ],
   "source": [
    "tricky = sorted([w for w in set(text2) if 'cie' in w or 'cei' in w])\n",
    "\n",
    "for word in tricky:\n",
    "    print(word, end=\",\")"
   ]
  },
  {
   "cell_type": "markdown",
   "id": "d9508e97-0ede-4cd6-949c-5302f315768e",
   "metadata": {},
   "source": [
    "# 1.5"
   ]
  },
  {
   "cell_type": "markdown",
   "id": "2d4667bc-eb04-47e3-a239-f7db97650c41",
   "metadata": {},
   "source": [
    "## Word Sense Disambiguaton\n",
    "\n",
    "In word sense disambiguation we want to work out which sense of a word was in-\n",
    "tended in a given context. Consider the ambiguous words serve and dish:\n",
    "    \n",
    "    (2) \n",
    "\n",
    "    - a. serve: help with food or drink; hold an office; put ball into play\n",
    "    - b. dish: plate; course of a meal; communications device\n",
    "\n",
    "In a sentence containing the phrase: he served the dish, you can detect that both serve\n",
    "and dish are being used with their food meanings. It’s unlikely that the topic of discus-\n",
    "sion shifted from sports to crockery in the space of three words. This would force you\n",
    "to invent bizarre images, like a tennis pro taking out his frustrations on a china tea-set\n",
    "laid out beside the court. In other words, we automatically disambiguate words using\n",
    "context, exploiting the simple fact that nearby words have closely related meanings. As\n",
    "another example of this contextual effect, consider the word by, which has several\n",
    "meanings, for example, the book by Chesterton (agentive—Chesterton was the author\n",
    "of the book); the cup by the stove (locative—the stove is where the cup is); and submit\n",
    "by Friday (temporal—Friday is the time of the submitting). Observe in (3) that the\n",
    "meaning of the italicized word helps us interpret the meaning of by.\n",
    "\n",
    "    (3) \n",
    "    \n",
    "    - a. The lost children were found by the searchers (agentive)\n",
    "    - b. The lost children were found by the mountain (locative)\n",
    "    - c. The lost children were found by the afternoon (temporal)"
   ]
  },
  {
   "cell_type": "markdown",
   "id": "aacdd30d-b215-4390-b4fa-bd802f68f641",
   "metadata": {},
   "source": [
    "## Pronoun Resolution\n",
    "\n",
    "A deeper kind of language understanding is to work out “who did what to whom,” i.e.,\n",
    "to detect the subjects and objects of verbs. You learned to do this in elementary school,\n",
    "but it’s harder than you might think. In the sentence the thieves stole the paintings, it is\n",
    "easy to tell who performed the stealing action. Consider three possible following sen-\n",
    "tences in (4), and try to determine what was sold, caught, and found (one case is\n",
    "ambiguous).\n",
    "    \n",
    "    (4) \n",
    "\n",
    "    - a. The thieves stole the paintings. They were subsequently sold.\n",
    "    - b. The thieves stole the paintings. They were subsequently caught.\n",
    "    - c. The thieves stole the paintings. They were subsequently found.\n",
    "        \n",
    "Answering this question involves finding the antecedent of the pronoun they, either\n",
    "thieves or paintings. Computational techniques for tackling this problem include ana-\n",
    "phora resolution—identifying what a pronoun or noun phrase refers to—and \n",
    "semantic role labeling—identifying how a noun phrase relates to the verb (as agent,\n",
    "patient, instrument, and so on)."
   ]
  },
  {
   "cell_type": "markdown",
   "id": "bf900e18-358a-4356-9e55-74743e392280",
   "metadata": {},
   "source": [
    "## Chatbots"
   ]
  },
  {
   "cell_type": "code",
   "execution_count": 161,
   "id": "9ca86cf5-ebd0-4926-8150-383bf5d549e7",
   "metadata": {},
   "outputs": [
    {
     "name": "stdout",
     "output_type": "stream",
     "text": [
      "Which chatbot would you like to talk to?\n",
      "  1: Eliza (psycho-babble)\n",
      "  2: Iesha (teen anime junky)\n",
      "  3: Rude (abusive bot)\n",
      "  4: Suntsu (Chinese sayings)\n",
      "  5: Zen (gems of wisdom)\n"
     ]
    },
    {
     "name": "stdin",
     "output_type": "stream",
     "text": [
      "\n",
      "Enter a number in the range 1-5:  3\n"
     ]
    },
    {
     "name": "stdout",
     "output_type": "stream",
     "text": [
      "Talk to the program by typing in plain English, using normal upper-\n",
      "and lower-case letters and punctuation.  Enter \"quit\" when done.\n",
      "========================================================================\n",
      "I suppose I should say hello.\n"
     ]
    },
    {
     "name": "stdin",
     "output_type": "stream",
     "text": [
      "> Hi\n"
     ]
    },
    {
     "name": "stdout",
     "output_type": "stream",
     "text": [
      "Change the subject before I die of fatal boredom.\n"
     ]
    },
    {
     "name": "stdin",
     "output_type": "stream",
     "text": [
      "> What is the weather?\n"
     ]
    },
    {
     "name": "stdout",
     "output_type": "stream",
     "text": [
      "Do I look like an encyclopedia?\n"
     ]
    },
    {
     "name": "stdin",
     "output_type": "stream",
     "text": [
      "> What time is it?\n"
     ]
    },
    {
     "name": "stdout",
     "output_type": "stream",
     "text": [
      "Figure it out yourself.\n"
     ]
    },
    {
     "name": "stdin",
     "output_type": "stream",
     "text": [
      "> Rude\n"
     ]
    },
    {
     "name": "stdout",
     "output_type": "stream",
     "text": [
      "Change the subject before I die of fatal boredom.\n"
     ]
    },
    {
     "name": "stdin",
     "output_type": "stream",
     "text": [
      "> You are rude\n"
     ]
    },
    {
     "name": "stdout",
     "output_type": "stream",
     "text": [
      "More like YOU'RE  rude!\n"
     ]
    },
    {
     "name": "stdin",
     "output_type": "stream",
     "text": [
      "> What can you tell me?\n"
     ]
    },
    {
     "name": "stdout",
     "output_type": "stream",
     "text": [
      "Do I look like an encyclopedia?\n"
     ]
    },
    {
     "name": "stdin",
     "output_type": "stream",
     "text": [
      "> Are you hungry?\n"
     ]
    },
    {
     "name": "stdout",
     "output_type": "stream",
     "text": [
      "Change the subject before I die of fatal boredom.\n"
     ]
    },
    {
     "name": "stdin",
     "output_type": "stream",
     "text": [
      "> quit\n"
     ]
    },
    {
     "name": "stdout",
     "output_type": "stream",
     "text": [
      "Either become more thrilling or get lost, buddy.\n"
     ]
    }
   ],
   "source": [
    "nltk.chat.chatbots()"
   ]
  },
  {
   "cell_type": "code",
   "execution_count": null,
   "id": "79ca3c6c-86cc-4c5b-a5d4-2bee838adb28",
   "metadata": {},
   "outputs": [],
   "source": []
  }
 ],
 "metadata": {
  "kernelspec": {
   "display_name": "project-venv",
   "language": "python",
   "name": "project-venv"
  },
  "language_info": {
   "codemirror_mode": {
    "name": "ipython",
    "version": 3
   },
   "file_extension": ".py",
   "mimetype": "text/x-python",
   "name": "python",
   "nbconvert_exporter": "python",
   "pygments_lexer": "ipython3",
   "version": "3.9.6"
  }
 },
 "nbformat": 4,
 "nbformat_minor": 5
}
